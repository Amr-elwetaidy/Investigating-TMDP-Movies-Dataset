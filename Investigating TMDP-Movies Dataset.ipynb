{
 "cells": [
  {
   "cell_type": "markdown",
   "id": "ca928e7e",
   "metadata": {},
   "source": [
    "<a id='top'></a>\n",
    "# Project: Investigating TMDP-Movies Dataset.\n",
    "\n",
    "<a id='intro'></a>\n",
    "## Introduction\n",
    "This data set contains information about 10,000 movies collected from The Movie Database (TMDb), including user ratings and revenue.\n",
    "\n",
    "I will be analyizing this dataset to find some information about the most popular genres each year and some relations between budget and cast team and their effect on the revenue.\n",
    "\n",
    "## Asking questions\n",
    "<ul>\n",
    "<li>Which genres are most popular from year to year?</li>\n",
    "<li>What kinds of properties are associated with movies that have high revenues?</li>\n",
    "<li>Are generes related to budget?</li>\n",
    "<li>is there a relation between directors, budget and revenue?</li>\n",
    "<li>does the cast affect the budget and revenue?</li>\n",
    "</ul>"
   ]
  }
 ],
 "metadata": {
  "kernelspec": {
   "display_name": "Python 3 (ipykernel)",
   "language": "python",
   "name": "python3"
  },
  "language_info": {
   "codemirror_mode": {
    "name": "ipython",
    "version": 3
   },
   "file_extension": ".py",
   "mimetype": "text/x-python",
   "name": "python",
   "nbconvert_exporter": "python",
   "pygments_lexer": "ipython3",
   "version": "3.10.0"
  }
 },
 "nbformat": 4,
 "nbformat_minor": 5
}
